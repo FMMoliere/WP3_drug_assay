import numpy as np

test_array = np.zeros(3)
